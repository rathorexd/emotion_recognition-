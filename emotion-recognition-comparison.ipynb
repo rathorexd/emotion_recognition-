{
 "cells": [
  {
   "cell_type": "markdown",
   "id": "36d57e3e",
   "metadata": {
    "_cell_guid": "b1076dfc-b9ad-4769-8c92-a6c4dae69d19",
    "_uuid": "8f2839f25d086af736a60e9eeb907d3b93b6e0e5",
    "papermill": {
     "duration": 0.01378,
     "end_time": "2024-06-30T14:22:30.944004",
     "exception": false,
     "start_time": "2024-06-30T14:22:30.930224",
     "status": "completed"
    },
    "tags": []
   },
   "source": [
    "# About the Project\n",
    "\n",
    "The project aims to classify 6 emotions using **Bidirectional LSTMs**. It is an advancement of Sentiment Analysis which was classifying whether the text is Positive, Negative or Neutral using Naive Bayes Theorem.\n",
    "\n",
    "## Bi-Directional LSTMs\n",
    "\n",
    "Bidirectional LSTM or BiLSTM is a term used for a sequence model which contains two LSTM layers, one for processing input in the forward direction and the other for processing in the backward direction. It is usually used in NLP-related tasks. The intuition behind this approach is that by processing data in both directions, the model is able to better understand the relationship between sequences (e.g. knowing the following and preceding words in a sentence)."
   ]
  },
  {
   "cell_type": "markdown",
   "id": "68d88030",
   "metadata": {
    "papermill": {
     "duration": 0.012489,
     "end_time": "2024-06-30T14:22:30.970202",
     "exception": false,
     "start_time": "2024-06-30T14:22:30.957713",
     "status": "completed"
    },
    "tags": []
   },
   "source": [
    "# STEP BY STEP IMPLEMENTATION\n",
    "\n",
    "## Step 1 - Importing all important Libraries "
   ]
  },
  {
   "cell_type": "code",
   "execution_count": 5,
   "id": "5ea0fb04",
   "metadata": {
    "execution": {
     "iopub.execute_input": "2024-06-30T14:22:30.997333Z",
     "iopub.status.busy": "2024-06-30T14:22:30.996926Z",
     "iopub.status.idle": "2024-06-30T14:22:55.712819Z",
     "shell.execute_reply": "2024-06-30T14:22:55.711947Z"
    },
    "papermill": {
     "duration": 24.73256,
     "end_time": "2024-06-30T14:22:55.715386",
     "exception": false,
     "start_time": "2024-06-30T14:22:30.982826",
     "status": "completed"
    },
    "tags": []
   },
   "outputs": [],
   "source": [
    "import pandas as pd\n",
    "import random\n",
    "import matplotlib.pyplot as plt\n",
    "import seaborn as sns\n",
    "from collections import Counter\n",
    "from wordcloud import WordCloud\n",
    "from nltk.stem import PorterStemmer\n",
    "import numpy as np\n",
    "\n",
    "from sklearn.metrics import confusion_matrix\n",
    "\n",
    "import tensorflow as tf\n",
    "from tensorflow.keras.utils import to_categorical\n",
    "from tensorflow.keras.preprocessing.text import Tokenizer\n",
    "from tensorflow.keras.preprocessing.sequence import pad_sequences\n",
    "from tensorflow.keras.layers import Embedding, LSTM, Dense, Bidirectional\n",
    "from tensorflow.keras.preprocessing.text import Tokenizer\n",
    "from tensorflow.keras.models import Sequential\n",
    "from tensorflow.keras.optimizers import Adam\n",
    "from tensorflow.keras.regularizers import l2"
   ]
  },
  {
   "cell_type": "code",
   "execution_count": 1,
   "id": "e6c64156",
   "metadata": {},
   "outputs": [
    {
     "name": "stdout",
     "output_type": "stream",
     "text": [
      "Collecting protobuf<3.21.0\n",
      "  Downloading protobuf-3.20.3-cp310-cp310-win_amd64.whl.metadata (698 bytes)\n",
      "Downloading protobuf-3.20.3-cp310-cp310-win_amd64.whl (904 kB)\n",
      "   ---------------------------------------- 0.0/904.0 kB ? eta -:--:--\n",
      "   --------------------------------------- 904.0/904.0 kB 20.7 MB/s eta 0:00:00\n",
      "Installing collected packages: protobuf\n",
      "  Attempting uninstall: protobuf\n",
      "    Found existing installation: protobuf 5.29.3\n",
      "    Uninstalling protobuf-5.29.3:\n",
      "      Successfully uninstalled protobuf-5.29.3\n",
      "Successfully installed protobuf-3.20.3\n",
      "Note: you may need to restart the kernel to use updated packages.\n"
     ]
    },
    {
     "name": "stderr",
     "output_type": "stream",
     "text": [
      "  WARNING: Failed to remove contents in a temporary directory 'C:\\conda\\Lib\\site-packages\\google\\~upb'.\n",
      "  You can safely remove it manually.\n",
      "ERROR: pip's dependency resolver does not currently take into account all the packages that are installed. This behaviour is the source of the following dependency conflicts.\n",
      "opentelemetry-proto 1.32.0 requires protobuf<6.0,>=5.0, but you have protobuf 3.20.3 which is incompatible.\n",
      "tensorflow-intel 2.18.0 requires keras>=3.5.0, but you have keras 2.8.0 which is incompatible.\n",
      "tensorflow-intel 2.18.0 requires tensorboard<2.19,>=2.18, but you have tensorboard 2.8.0 which is incompatible.\n"
     ]
    }
   ],
   "source": [
    "pip install \"protobuf<3.21.0\""
   ]
  },
  {
   "cell_type": "code",
   "execution_count": null,
   "id": "a6893919",
   "metadata": {},
   "outputs": [],
   "source": [
    "import kagglehub\n",
    "emotion_dataset_path = kagglehub.dataset_download('parulpandey/emotion-dataset')\n",
    "\n",
    "print('Data source import complete.',emotion daataset)"
   ]
  },
  {
   "cell_type": "markdown",
   "id": "449caff5",
   "metadata": {
    "papermill": {
     "duration": 0.013518,
     "end_time": "2024-06-30T14:22:55.742467",
     "exception": false,
     "start_time": "2024-06-30T14:22:55.728949",
     "status": "completed"
    },
    "tags": []
   },
   "source": [
    "## Step 2 - Importing Validation, Testing and Training Dataset "
   ]
  },
  {
   "cell_type": "code",
   "execution_count": 2,
   "id": "4f81e473",
   "metadata": {
    "execution": {
     "iopub.execute_input": "2024-06-30T14:22:55.771045Z",
     "iopub.status.busy": "2024-06-30T14:22:55.769858Z",
     "iopub.status.idle": "2024-06-30T14:22:55.856352Z",
     "shell.execute_reply": "2024-06-30T14:22:55.855527Z"
    },
    "papermill": {
     "duration": 0.103125,
     "end_time": "2024-06-30T14:22:55.858655",
     "exception": false,
     "start_time": "2024-06-30T14:22:55.755530",
     "status": "completed"
    },
    "tags": []
   },
   "outputs": [],
   "source": [
    "val_data = pd.read_csv('/kaggle/input/emotion-dataset/validation.csv')\n",
    "train_data = pd.read_csv('/kaggle/input/emotion-dataset/training.csv')\n",
    "test_data = pd.read_csv('/kaggle/input/emotion-dataset/test.csv')"
   ]
  },
  {
   "cell_type": "code",
   "execution_count": 3,
   "id": "269154ef",
   "metadata": {
    "execution": {
     "iopub.execute_input": "2024-06-30T14:22:55.886025Z",
     "iopub.status.busy": "2024-06-30T14:22:55.885686Z",
     "iopub.status.idle": "2024-06-30T14:22:55.891180Z",
     "shell.execute_reply": "2024-06-30T14:22:55.890279Z"
    },
    "papermill": {
     "duration": 0.021554,
     "end_time": "2024-06-30T14:22:55.893364",
     "exception": false,
     "start_time": "2024-06-30T14:22:55.871810",
     "status": "completed"
    },
    "tags": []
   },
   "outputs": [
    {
     "name": "stdout",
     "output_type": "stream",
     "text": [
      "Validation data : (2000, 2)\n",
      "Train data : (16000, 2)\n",
      "Test data : (2000, 2)\n"
     ]
    }
   ],
   "source": [
    "# Checking Length of each dataset\n",
    "print(\"Validation data :\",val_data.shape)\n",
    "print(\"Train data :\",train_data.shape)\n",
    "print(\"Test data :\",test_data.shape)"
   ]
  },
  {
   "cell_type": "markdown",
   "id": "35405c8a",
   "metadata": {
    "papermill": {
     "duration": 0.012741,
     "end_time": "2024-06-30T14:22:55.919737",
     "exception": false,
     "start_time": "2024-06-30T14:22:55.906996",
     "status": "completed"
    },
    "tags": []
   },
   "source": [
    "## Step 3 - Data Handling "
   ]
  },
  {
   "cell_type": "code",
   "execution_count": 4,
   "id": "b375cee3",
   "metadata": {
    "execution": {
     "iopub.execute_input": "2024-06-30T14:22:55.946624Z",
     "iopub.status.busy": "2024-06-30T14:22:55.946226Z",
     "iopub.status.idle": "2024-06-30T14:22:55.953520Z",
     "shell.execute_reply": "2024-06-30T14:22:55.952516Z"
    },
    "papermill": {
     "duration": 0.023507,
     "end_time": "2024-06-30T14:22:55.955929",
     "exception": false,
     "start_time": "2024-06-30T14:22:55.932422",
     "status": "completed"
    },
    "tags": []
   },
   "outputs": [
    {
     "name": "stdout",
     "output_type": "stream",
     "text": [
      "new Val data : (3000, 2)\n",
      "new Test data : (1000, 2)\n"
     ]
    }
   ],
   "source": [
    "# Changing lengths as per personal requirements\n",
    "half_test_data = test_data.iloc[1000:]\n",
    "test_data = test_data.iloc[:1000]\n",
    "\n",
    "val_data = pd.concat([val_data, half_test_data], axis=0)\n",
    "print(\"new Val data :\",val_data.shape)\n",
    "print(\"new Test data :\",test_data.shape)"
   ]
  },
  {
   "cell_type": "code",
   "execution_count": 5,
   "id": "17f9012c",
   "metadata": {
    "execution": {
     "iopub.execute_input": "2024-06-30T14:22:55.983091Z",
     "iopub.status.busy": "2024-06-30T14:22:55.982437Z",
     "iopub.status.idle": "2024-06-30T14:22:55.999135Z",
     "shell.execute_reply": "2024-06-30T14:22:55.998315Z"
    },
    "papermill": {
     "duration": 0.032226,
     "end_time": "2024-06-30T14:22:56.001114",
     "exception": false,
     "start_time": "2024-06-30T14:22:55.968888",
     "status": "completed"
    },
    "tags": []
   },
   "outputs": [
    {
     "data": {
      "text/html": [
       "<div>\n",
       "<style scoped>\n",
       "    .dataframe tbody tr th:only-of-type {\n",
       "        vertical-align: middle;\n",
       "    }\n",
       "\n",
       "    .dataframe tbody tr th {\n",
       "        vertical-align: top;\n",
       "    }\n",
       "\n",
       "    .dataframe thead th {\n",
       "        text-align: right;\n",
       "    }\n",
       "</style>\n",
       "<table border=\"1\" class=\"dataframe\">\n",
       "  <thead>\n",
       "    <tr style=\"text-align: right;\">\n",
       "      <th></th>\n",
       "      <th>text</th>\n",
       "      <th>label</th>\n",
       "    </tr>\n",
       "  </thead>\n",
       "  <tbody>\n",
       "    <tr>\n",
       "      <th>0</th>\n",
       "      <td>i didnt feel humiliated</td>\n",
       "      <td>0</td>\n",
       "    </tr>\n",
       "    <tr>\n",
       "      <th>1</th>\n",
       "      <td>i can go from feeling so hopeless to so damned...</td>\n",
       "      <td>0</td>\n",
       "    </tr>\n",
       "    <tr>\n",
       "      <th>2</th>\n",
       "      <td>im grabbing a minute to post i feel greedy wrong</td>\n",
       "      <td>3</td>\n",
       "    </tr>\n",
       "    <tr>\n",
       "      <th>3</th>\n",
       "      <td>i am ever feeling nostalgic about the fireplac...</td>\n",
       "      <td>2</td>\n",
       "    </tr>\n",
       "    <tr>\n",
       "      <th>4</th>\n",
       "      <td>i am feeling grouchy</td>\n",
       "      <td>3</td>\n",
       "    </tr>\n",
       "    <tr>\n",
       "      <th>5</th>\n",
       "      <td>ive been feeling a little burdened lately wasn...</td>\n",
       "      <td>0</td>\n",
       "    </tr>\n",
       "    <tr>\n",
       "      <th>6</th>\n",
       "      <td>ive been taking or milligrams or times recomme...</td>\n",
       "      <td>5</td>\n",
       "    </tr>\n",
       "    <tr>\n",
       "      <th>7</th>\n",
       "      <td>i feel as confused about life as a teenager or...</td>\n",
       "      <td>4</td>\n",
       "    </tr>\n",
       "    <tr>\n",
       "      <th>8</th>\n",
       "      <td>i have been with petronas for years i feel tha...</td>\n",
       "      <td>1</td>\n",
       "    </tr>\n",
       "    <tr>\n",
       "      <th>9</th>\n",
       "      <td>i feel romantic too</td>\n",
       "      <td>2</td>\n",
       "    </tr>\n",
       "  </tbody>\n",
       "</table>\n",
       "</div>"
      ],
      "text/plain": [
       "                                                text  label\n",
       "0                            i didnt feel humiliated      0\n",
       "1  i can go from feeling so hopeless to so damned...      0\n",
       "2   im grabbing a minute to post i feel greedy wrong      3\n",
       "3  i am ever feeling nostalgic about the fireplac...      2\n",
       "4                               i am feeling grouchy      3\n",
       "5  ive been feeling a little burdened lately wasn...      0\n",
       "6  ive been taking or milligrams or times recomme...      5\n",
       "7  i feel as confused about life as a teenager or...      4\n",
       "8  i have been with petronas for years i feel tha...      1\n",
       "9                                i feel romantic too      2"
      ]
     },
     "execution_count": 5,
     "metadata": {},
     "output_type": "execute_result"
    }
   ],
   "source": [
    "# Dataframe to understand labelling of each text\n",
    "train_data.head(10)"
   ]
  },
  {
   "cell_type": "code",
   "execution_count": 6,
   "id": "7d2c0932",
   "metadata": {
    "execution": {
     "iopub.execute_input": "2024-06-30T14:22:56.028456Z",
     "iopub.status.busy": "2024-06-30T14:22:56.027954Z",
     "iopub.status.idle": "2024-06-30T14:22:56.046453Z",
     "shell.execute_reply": "2024-06-30T14:22:56.045570Z"
    },
    "papermill": {
     "duration": 0.034487,
     "end_time": "2024-06-30T14:22:56.048519",
     "exception": false,
     "start_time": "2024-06-30T14:22:56.014032",
     "status": "completed"
    },
    "tags": []
   },
   "outputs": [
    {
     "data": {
      "text/html": [
       "<div>\n",
       "<style scoped>\n",
       "    .dataframe tbody tr th:only-of-type {\n",
       "        vertical-align: middle;\n",
       "    }\n",
       "\n",
       "    .dataframe tbody tr th {\n",
       "        vertical-align: top;\n",
       "    }\n",
       "\n",
       "    .dataframe thead th {\n",
       "        text-align: right;\n",
       "    }\n",
       "</style>\n",
       "<table border=\"1\" class=\"dataframe\">\n",
       "  <thead>\n",
       "    <tr style=\"text-align: right;\">\n",
       "      <th></th>\n",
       "      <th>text</th>\n",
       "      <th>label</th>\n",
       "      <th>label_name</th>\n",
       "    </tr>\n",
       "  </thead>\n",
       "  <tbody>\n",
       "    <tr>\n",
       "      <th>0</th>\n",
       "      <td>i didnt feel humiliated</td>\n",
       "      <td>0</td>\n",
       "      <td>sadness</td>\n",
       "    </tr>\n",
       "    <tr>\n",
       "      <th>1</th>\n",
       "      <td>i can go from feeling so hopeless to so damned...</td>\n",
       "      <td>0</td>\n",
       "      <td>sadness</td>\n",
       "    </tr>\n",
       "    <tr>\n",
       "      <th>2</th>\n",
       "      <td>im grabbing a minute to post i feel greedy wrong</td>\n",
       "      <td>3</td>\n",
       "      <td>anger</td>\n",
       "    </tr>\n",
       "    <tr>\n",
       "      <th>3</th>\n",
       "      <td>i am ever feeling nostalgic about the fireplac...</td>\n",
       "      <td>2</td>\n",
       "      <td>love</td>\n",
       "    </tr>\n",
       "    <tr>\n",
       "      <th>4</th>\n",
       "      <td>i am feeling grouchy</td>\n",
       "      <td>3</td>\n",
       "      <td>anger</td>\n",
       "    </tr>\n",
       "  </tbody>\n",
       "</table>\n",
       "</div>"
      ],
      "text/plain": [
       "                                                text  label label_name\n",
       "0                            i didnt feel humiliated      0    sadness\n",
       "1  i can go from feeling so hopeless to so damned...      0    sadness\n",
       "2   im grabbing a minute to post i feel greedy wrong      3      anger\n",
       "3  i am ever feeling nostalgic about the fireplac...      2       love\n",
       "4                               i am feeling grouchy      3      anger"
      ]
     },
     "execution_count": 6,
     "metadata": {},
     "output_type": "execute_result"
    }
   ],
   "source": [
    "# Creating Label Dictionary by mapping each number to corresponding label for better understanding.\n",
    "labels_dict = {0:'sadness', 1:'joy', 2:'love', 3:'anger', 4:'fear', 5:'surprise'}\n",
    "train_data['label_name'] = train_data['label'].map(labels_dict)\n",
    "train_data.head()"
   ]
  },
  {
   "cell_type": "code",
   "execution_count": 7,
   "id": "74744b8e",
   "metadata": {
    "execution": {
     "iopub.execute_input": "2024-06-30T14:22:56.076502Z",
     "iopub.status.busy": "2024-06-30T14:22:56.076252Z",
     "iopub.status.idle": "2024-06-30T14:22:56.100894Z",
     "shell.execute_reply": "2024-06-30T14:22:56.100016Z"
    },
    "papermill": {
     "duration": 0.04059,
     "end_time": "2024-06-30T14:22:56.103012",
     "exception": false,
     "start_time": "2024-06-30T14:22:56.062422",
     "status": "completed"
    },
    "tags": []
   },
   "outputs": [
    {
     "data": {
      "text/plain": [
       "label_name  label\n",
       "anger       3        2159\n",
       "fear        4        1937\n",
       "joy         1        5362\n",
       "love        2        1304\n",
       "sadness     0        4666\n",
       "surprise    5         572\n",
       "dtype: int64"
      ]
     },
     "execution_count": 7,
     "metadata": {},
     "output_type": "execute_result"
    }
   ],
   "source": [
    "train_data.groupby([\"label_name\",\"label\"]).size()"
   ]
  },
  {
   "cell_type": "code",
   "execution_count": 8,
   "id": "a1c55f28",
   "metadata": {
    "execution": {
     "iopub.execute_input": "2024-06-30T14:22:56.136137Z",
     "iopub.status.busy": "2024-06-30T14:22:56.135825Z",
     "iopub.status.idle": "2024-06-30T14:22:56.150202Z",
     "shell.execute_reply": "2024-06-30T14:22:56.149138Z"
    },
    "papermill": {
     "duration": 0.031555,
     "end_time": "2024-06-30T14:22:56.152200",
     "exception": false,
     "start_time": "2024-06-30T14:22:56.120645",
     "status": "completed"
    },
    "tags": []
   },
   "outputs": [
    {
     "name": "stdout",
     "output_type": "stream",
     "text": [
      "text          0\n",
      "label         0\n",
      "label_name    0\n",
      "dtype: int64\n",
      "text     0\n",
      "label    0\n",
      "dtype: int64\n",
      "text     0\n",
      "label    0\n",
      "dtype: int64\n"
     ]
    }
   ],
   "source": [
    "#checking if data is fine\n",
    "print(train_data.isnull().sum())\n",
    "print(val_data.isnull().sum())\n",
    "print(test_data.isnull().sum())"
   ]
  },
  {
   "cell_type": "code",
   "execution_count": 9,
   "id": "ae9fa047",
   "metadata": {
    "execution": {
     "iopub.execute_input": "2024-06-30T14:22:56.181493Z",
     "iopub.status.busy": "2024-06-30T14:22:56.180836Z",
     "iopub.status.idle": "2024-06-30T14:22:56.186823Z",
     "shell.execute_reply": "2024-06-30T14:22:56.185864Z"
    },
    "papermill": {
     "duration": 0.022506,
     "end_time": "2024-06-30T14:22:56.188741",
     "exception": false,
     "start_time": "2024-06-30T14:22:56.166235",
     "status": "completed"
    },
    "tags": []
   },
   "outputs": [],
   "source": [
    "all_list = train_data['text'].tolist() + test_data['text'].tolist() + val_data['text'].tolist()"
   ]
  },
  {
   "cell_type": "markdown",
   "id": "5dc652e2",
   "metadata": {
    "papermill": {
     "duration": 0.013735,
     "end_time": "2024-06-30T14:22:56.217530",
     "exception": false,
     "start_time": "2024-06-30T14:22:56.203795",
     "status": "completed"
    },
    "tags": []
   },
   "source": [
    "## Step 4 - Dataset Visualization"
   ]
  },
  {
   "cell_type": "code",
   "execution_count": 10,
   "id": "2ea7eb4c",
   "metadata": {
    "execution": {
     "iopub.execute_input": "2024-06-30T14:22:56.247839Z",
     "iopub.status.busy": "2024-06-30T14:22:56.246409Z",
     "iopub.status.idle": "2024-06-30T14:22:56.519241Z",
     "shell.execute_reply": "2024-06-30T14:22:56.518272Z"
    },
    "papermill": {
     "duration": 0.29,
     "end_time": "2024-06-30T14:22:56.521347",
     "exception": false,
     "start_time": "2024-06-30T14:22:56.231347",
     "status": "completed"
    },
    "tags": []
   },
   "outputs": [
    {
     "data": {
      "text/plain": [
       "<Axes: title={'center': 'Dataset Visualization'}, xlabel='emotions', ylabel='Quantity'>"
      ]
     },
     "execution_count": 10,
     "metadata": {},
     "output_type": "execute_result"
    },
    {
     "data": {
      "image/png": "[encoded data removed]",
      "text/plain": [
       "<Figure size 300x200 with 1 Axes>"
      ]
     },
     "metadata": {},
     "output_type": "display_data"
    }
   ],
   "source": [
    "train_data[\"label_name\"].value_counts().plot(kind='bar',figsize=(3, 2),color=['yellow', '#00ABFF', 'red', '#D001F0', '#FF09DF','#00fff7'], xlabel = \"emotions\",ylabel=\"Quantity\",title=\"Dataset Visualization\")\n"
   ]
  },
  {
   "cell_type": "markdown",
   "id": "18af00e6",
   "metadata": {
    "papermill": {
     "duration": 0.014106,
     "end_time": "2024-06-30T14:22:56.550495",
     "exception": false,
     "start_time": "2024-06-30T14:22:56.536389",
     "status": "completed"
    },
    "tags": []
   },
   "source": [
    "## Step 5 - Data Preprocessing Functions Before Training"
   ]
  },
  {
   "cell_type": "code",
   "execution_count": 11,
   "id": "444de55c",
   "metadata": {
    "execution": {
     "iopub.execute_input": "2024-06-30T14:22:56.581396Z",
     "iopub.status.busy": "2024-06-30T14:22:56.580560Z",
     "iopub.status.idle": "2024-06-30T14:22:57.845044Z",
     "shell.execute_reply": "2024-06-30T14:22:57.844105Z"
    },
    "papermill": {
     "duration": 1.282415,
     "end_time": "2024-06-30T14:22:57.847379",
     "exception": false,
     "start_time": "2024-06-30T14:22:56.564964",
     "status": "completed"
    },
    "tags": []
   },
   "outputs": [
    {
     "name": "stdout",
     "output_type": "stream",
     "text": [
      "Number of words without Stemming: 17096\n",
      "Number of words with Stemming: 11705\n"
     ]
    }
   ],
   "source": [
    "# Tokenizer Function\n",
    "tokenizer1 = Tokenizer()\n",
    "tokenizer1.fit_on_texts(all_list)\n",
    "word_index1 = tokenizer1.word_index\n",
    "\n",
    "print(\"Number of words without Stemming:\",len(word_index1))\n",
    "\n",
    "stemmer = PorterStemmer()\n",
    "stemmed_words = [stemmer.stem(word) for word in word_index1.keys()]\n",
    "\n",
    "tokenizer2 = Tokenizer()\n",
    "tokenizer2.fit_on_texts(stemmed_words)\n",
    "word_index2 = tokenizer2.word_index\n",
    "print(\"Number of words with Stemming:\",len(word_index2))\n"
   ]
  },
  {
   "cell_type": "code",
   "execution_count": 12,
   "id": "3cfebbb8",
   "metadata": {
    "execution": {
     "iopub.execute_input": "2024-06-30T14:22:57.879161Z",
     "iopub.status.busy": "2024-06-30T14:22:57.878329Z",
     "iopub.status.idle": "2024-06-30T14:22:57.884342Z",
     "shell.execute_reply": "2024-06-30T14:22:57.883413Z"
    },
    "papermill": {
     "duration": 0.02413,
     "end_time": "2024-06-30T14:22:57.886462",
     "exception": false,
     "start_time": "2024-06-30T14:22:57.862332",
     "status": "completed"
    },
    "tags": []
   },
   "outputs": [],
   "source": [
    "def preprocess_data(data):\n",
    "    new_data = []\n",
    "    for index, row in data.iterrows():\n",
    "        test_split = row['text'].split()\n",
    "        stemmed_words2 = [stemmer.stem(word) for word in test_split]\n",
    "        token_list= tokenizer2.texts_to_sequences([stemmed_words2])[0]\n",
    "        new_data.append([token_list,row['label']]) \n",
    "    return new_data"
   ]
  },
  {
   "cell_type": "code",
   "execution_count": 13,
   "id": "437872a5",
   "metadata": {
    "execution": {
     "iopub.execute_input": "2024-06-30T14:22:57.917589Z",
     "iopub.status.busy": "2024-06-30T14:22:57.916777Z",
     "iopub.status.idle": "2024-06-30T14:23:07.130524Z",
     "shell.execute_reply": "2024-06-30T14:23:07.129569Z"
    },
    "papermill": {
     "duration": 9.231381,
     "end_time": "2024-06-30T14:23:07.132685",
     "exception": false,
     "start_time": "2024-06-30T14:22:57.901304",
     "status": "completed"
    },
    "tags": []
   },
   "outputs": [
    {
     "name": "stdout",
     "output_type": "stream",
     "text": [
      "i didnt feel humiliated\n",
      "[[3198, 3265, 220, 665], 0]\n"
     ]
    }
   ],
   "source": [
    "# Represting Tozenized sentences\n",
    "new_train_data = preprocess_data(train_data)\n",
    "print(train_data['text'][0])\n",
    "print(new_train_data[0])    "
   ]
  },
  {
   "cell_type": "code",
   "execution_count": 14,
   "id": "4d35c6a4",
   "metadata": {
    "execution": {
     "iopub.execute_input": "2024-06-30T14:23:07.162846Z",
     "iopub.status.busy": "2024-06-30T14:23:07.162507Z",
     "iopub.status.idle": "2024-06-30T14:23:08.862488Z",
     "shell.execute_reply": "2024-06-30T14:23:08.861468Z"
    },
    "papermill": {
     "duration": 1.717591,
     "end_time": "2024-06-30T14:23:08.864688",
     "exception": false,
     "start_time": "2024-06-30T14:23:07.147097",
     "status": "completed"
    },
    "tags": []
   },
   "outputs": [
    {
     "name": "stdout",
     "output_type": "stream",
     "text": [
      "i start to feel more appreciative of what god has done for me\n",
      "[[3198, 228, 3200, 220, 3219, 129, 1274, 1284, 1329, 1299, 3305, 3206, 578], 1]\n"
     ]
    }
   ],
   "source": [
    "new_val_data = preprocess_data(val_data)\n",
    "print(val_data['text'][5])\n",
    "print(new_val_data[5])    "
   ]
  },
  {
   "cell_type": "code",
   "execution_count": 15,
   "id": "5824bec6",
   "metadata": {
    "execution": {
     "iopub.execute_input": "2024-06-30T14:23:08.895710Z",
     "iopub.status.busy": "2024-06-30T14:23:08.894910Z",
     "iopub.status.idle": "2024-06-30T14:23:09.472251Z",
     "shell.execute_reply": "2024-06-30T14:23:09.471126Z"
    },
    "papermill": {
     "duration": 0.595288,
     "end_time": "2024-06-30T14:23:09.474682",
     "exception": false,
     "start_time": "2024-06-30T14:23:08.879394",
     "status": "completed"
    },
    "tags": []
   },
   "outputs": [
    {
     "name": "stdout",
     "output_type": "stream",
     "text": [
      "i cant walk into a shop anywhere where i do not feel uncomfortable\n",
      "[[3198, 3259, 257, 3249, 3202, 768, 3628, 3271, 3198, 582, 1278, 220, 3365], 4]\n"
     ]
    }
   ],
   "source": [
    "new_test_data = preprocess_data(test_data)\n",
    "print(test_data['text'][5])\n",
    "print(new_test_data[5]) "
   ]
  },
  {
   "cell_type": "code",
   "execution_count": 16,
   "id": "ed577825",
   "metadata": {
    "execution": {
     "iopub.execute_input": "2024-06-30T14:23:09.506854Z",
     "iopub.status.busy": "2024-06-30T14:23:09.506478Z",
     "iopub.status.idle": "2024-06-30T14:23:09.514982Z",
     "shell.execute_reply": "2024-06-30T14:23:09.514048Z"
    },
    "papermill": {
     "duration": 0.027353,
     "end_time": "2024-06-30T14:23:09.517274",
     "exception": false,
     "start_time": "2024-06-30T14:23:09.489921",
     "status": "completed"
    },
    "tags": []
   },
   "outputs": [
    {
     "name": "stdout",
     "output_type": "stream",
     "text": [
      "train_X: [3198, 3265, 220, 665]\n",
      "train_y: 0\n"
     ]
    }
   ],
   "source": [
    "# Splitting into train_X and train_y\n",
    "train_X = [row[0] for row in new_train_data]\n",
    "train_y = [row[1] for row in new_train_data]\n",
    "# Print the results\n",
    "print(\"train_X:\", train_X[0])\n",
    "print(\"train_y:\", train_y[0])"
   ]
  },
  {
   "cell_type": "code",
   "execution_count": 17,
   "id": "c1c22a4f",
   "metadata": {
    "execution": {
     "iopub.execute_input": "2024-06-30T14:23:09.549713Z",
     "iopub.status.busy": "2024-06-30T14:23:09.549032Z",
     "iopub.status.idle": "2024-06-30T14:23:09.555173Z",
     "shell.execute_reply": "2024-06-30T14:23:09.554242Z"
    },
    "papermill": {
     "duration": 0.024849,
     "end_time": "2024-06-30T14:23:09.557661",
     "exception": false,
     "start_time": "2024-06-30T14:23:09.532812",
     "status": "completed"
    },
    "tags": []
   },
   "outputs": [
    {
     "name": "stdout",
     "output_type": "stream",
     "text": [
      "train_X: [3205, 220, 595, 1335, 3199, 3326, 3206, 3227, 3207, 1326, 518, 1283, 1274, 1276, 3380]\n",
      "train_y: 0\n"
     ]
    }
   ],
   "source": [
    "val_X = [row[0] for row in new_val_data]\n",
    "val_y = [row[1] for row in new_val_data]\n",
    "\n",
    "print(\"train_X:\", val_X[0])\n",
    "print(\"train_y:\", val_y[0])"
   ]
  },
  {
   "cell_type": "code",
   "execution_count": 18,
   "id": "99a1c56e",
   "metadata": {
    "execution": {
     "iopub.execute_input": "2024-06-30T14:23:09.589929Z",
     "iopub.status.busy": "2024-06-30T14:23:09.589014Z",
     "iopub.status.idle": "2024-06-30T14:23:09.595031Z",
     "shell.execute_reply": "2024-06-30T14:23:09.594134Z"
    },
    "papermill": {
     "duration": 0.024994,
     "end_time": "2024-06-30T14:23:09.597677",
     "exception": false,
     "start_time": "2024-06-30T14:23:09.572683",
     "status": "completed"
    },
    "tags": []
   },
   "outputs": [
    {
     "name": "stdout",
     "output_type": "stream",
     "text": [
      "test_X: [3205, 220, 3290, 3441, 3204, 3205, 1278, 3224, 4624, 87, 3230]\n",
      "test_y: 0\n"
     ]
    }
   ],
   "source": [
    "test_X = [row[0] for row in new_test_data]\n",
    "test_y = [row[1] for row in new_test_data]\n",
    "\n",
    "print(\"test_X:\", test_X[0])\n",
    "print(\"test_y:\", test_y[0])"
   ]
  },
  {
   "cell_type": "markdown",
   "id": "823fd589",
   "metadata": {
    "papermill": {
     "duration": 0.015153,
     "end_time": "2024-06-30T14:23:09.628343",
     "exception": false,
     "start_time": "2024-06-30T14:23:09.613190",
     "status": "completed"
    },
    "tags": []
   },
   "source": [
    "## Step 6 - Finding Longest Sentence in order to make dataset symmetric"
   ]
  },
  {
   "cell_type": "code",
   "execution_count": 19,
   "id": "9cb76261",
   "metadata": {
    "execution": {
     "iopub.execute_input": "2024-06-30T14:23:09.660549Z",
     "iopub.status.busy": "2024-06-30T14:23:09.659802Z",
     "iopub.status.idle": "2024-06-30T14:23:09.667423Z",
     "shell.execute_reply": "2024-06-30T14:23:09.666516Z"
    },
    "papermill": {
     "duration": 0.026284,
     "end_time": "2024-06-30T14:23:09.669589",
     "exception": false,
     "start_time": "2024-06-30T14:23:09.643305",
     "status": "completed"
    },
    "tags": []
   },
   "outputs": [
    {
     "name": "stdout",
     "output_type": "stream",
     "text": [
      "66\n",
      "[3198, 613, 3250, 3588, 3217, 3204, 3198, 927, 3245, 1497, 3245, 1354, 3217, 3245, 1303, 1296, 3200, 2107, 1284, 1276, 3220, 220, 3598, 3213, 220, 1276, 3528, 3217, 7890, 4263, 3221, 5569, 1552, 3243, 3198, 4263, 3221, 1552, 5570, 5570, 3198, 3579, 5569, 3198, 7891, 1276, 3200, 3202, 1293, 3219, 1401, 3948, 3598, 3213, 3223, 239, 3528, 3213, 85, 3267, 579, 1658, 3206, 3201, 239, 1289]\n"
     ]
    }
   ],
   "source": [
    "length_of_longest_sentence = len(max(train_X, key=len))\n",
    "print(length_of_longest_sentence)\n",
    "print(max(train_X, key=len))"
   ]
  },
  {
   "cell_type": "markdown",
   "id": "32c49821",
   "metadata": {
    "papermill": {
     "duration": 0.068893,
     "end_time": "2024-06-30T14:23:09.753571",
     "exception": false,
     "start_time": "2024-06-30T14:23:09.684678",
     "status": "completed"
    },
    "tags": []
   },
   "source": [
    "## Step 7 - Adding Padding to the Dataset length equal to length of Longest Sentence"
   ]
  },
  {
   "cell_type": "code",
   "execution_count": 20,
   "id": "bcd9fc07",
   "metadata": {
    "execution": {
     "iopub.execute_input": "2024-06-30T14:23:09.786111Z",
     "iopub.status.busy": "2024-06-30T14:23:09.785755Z",
     "iopub.status.idle": "2024-06-30T14:23:09.948360Z",
     "shell.execute_reply": "2024-06-30T14:23:09.947537Z"
    },
    "papermill": {
     "duration": 0.181193,
     "end_time": "2024-06-30T14:23:09.950669",
     "exception": false,
     "start_time": "2024-06-30T14:23:09.769476",
     "status": "completed"
    },
    "tags": []
   },
   "outputs": [],
   "source": [
    "for i in range(len(train_X)):\n",
    "    for j in range(length_of_longest_sentence-len(train_X[i])):\n",
    "        train_X[i].append(0)\n",
    "        \n",
    "for i in range(len(val_X)):\n",
    "    for j in range(length_of_longest_sentence-len(val_X[i])):\n",
    "        val_X[i].append(0)\n",
    "        \n",
    "for i in range(len(test_X)):\n",
    "    for j in range(length_of_longest_sentence-len(test_X[i])):\n",
    "        test_X[i].append(0)"
   ]
  },
  {
   "cell_type": "code",
   "execution_count": 21,
   "id": "6d4da723",
   "metadata": {
    "execution": {
     "iopub.execute_input": "2024-06-30T14:23:09.982504Z",
     "iopub.status.busy": "2024-06-30T14:23:09.981886Z",
     "iopub.status.idle": "2024-06-30T14:23:10.141349Z",
     "shell.execute_reply": "2024-06-30T14:23:10.140392Z"
    },
    "papermill": {
     "duration": 0.177727,
     "end_time": "2024-06-30T14:23:10.143955",
     "exception": false,
     "start_time": "2024-06-30T14:23:09.966228",
     "status": "completed"
    },
    "tags": []
   },
   "outputs": [
    {
     "name": "stdout",
     "output_type": "stream",
     "text": [
      "(16000, 66) (16000,)\n",
      "(3000, 66) (3000,)\n",
      "(1000, 66) (1000,)\n"
     ]
    }
   ],
   "source": [
    "train_X = np.array(train_X)\n",
    "train_y = np.array(train_y)\n",
    "\n",
    "val_X = np.array(val_X)\n",
    "val_y = np.array(val_y)\n",
    "\n",
    "test_X = np.array(test_X)\n",
    "test_y = np.array(test_y)\n",
    "\n",
    "print(train_X.shape,train_y.shape)\n",
    "print(val_X.shape,val_y.shape)\n",
    "print(test_X.shape,test_y.shape)\n"
   ]
  },
  {
   "cell_type": "markdown",
   "id": "223fa0e5",
   "metadata": {
    "papermill": {
     "duration": 0.015044,
     "end_time": "2024-06-30T14:23:10.174096",
     "exception": false,
     "start_time": "2024-06-30T14:23:10.159052",
     "status": "completed"
    },
    "tags": []
   },
   "source": [
    "## Step 8 - Training Using Bidirectional LSTMs"
   ]
  },
  {
   "attachments": {
    "28db495b-2a0c-44b2-b6a4-630f2dc7d783.png": {
     "image/png": "[encoded data removed]"
    }
   },
   "cell_type": "markdown",
   "id": "65173453",
   "metadata": {
    "papermill": {
     "duration": 0.01491,
     "end_time": "2024-06-30T14:23:10.204311",
     "exception": false,
     "start_time": "2024-06-30T14:23:10.189401",
     "status": "completed"
    },
    "tags": []
   },
   "source": [
    "### Architecture Diagram-\n",
    "![image.png](attachment:28db495b-2a0c-44b2-b6a4-630f2dc7d783.png)!"
   ]
  },
  {
   "cell_type": "code",
   "execution_count": 22,
   "id": "5855e68d",
   "metadata": {
    "execution": {
     "iopub.execute_input": "2024-06-30T14:23:10.245050Z",
     "iopub.status.busy": "2024-06-30T14:23:10.244474Z",
     "iopub.status.idle": "2024-06-30T14:24:44.648862Z",
     "shell.execute_reply": "2024-06-30T14:24:44.647837Z"
    },
    "papermill": {
     "duration": 94.426933,
     "end_time": "2024-06-30T14:24:44.650948",
     "exception": false,
     "start_time": "2024-06-30T14:23:10.224015",
     "status": "completed"
    },
    "tags": []
   },
   "outputs": [
    {
     "name": "stdout",
     "output_type": "stream",
     "text": [
      "Epoch 1/10\n"
     ]
    },
    {
     "name": "stderr",
     "output_type": "stream",
     "text": [
      "WARNING: All log messages before absl::InitializeLog() is called are written to STDERR\n",
      "I0000 00:00:1719757396.678545      70 device_compiler.h:186] Compiled cluster using XLA!  This line is logged at most once for the lifetime of the process.\n"
     ]
    },
    {
     "name": "stdout",
     "output_type": "stream",
     "text": [
      "500/500 [==============================] - 31s 54ms/step - loss: 1.8318 - sparse_categorical_accuracy: 0.3139 - val_loss: 1.5953 - val_sparse_categorical_accuracy: 0.3540\n",
      "Epoch 2/10\n",
      "500/500 [==============================] - 8s 15ms/step - loss: 1.5956 - sparse_categorical_accuracy: 0.3254 - val_loss: 1.5885 - val_sparse_categorical_accuracy: 0.3540\n",
      "Epoch 3/10\n",
      "500/500 [==============================] - 7s 15ms/step - loss: 1.5937 - sparse_categorical_accuracy: 0.3235 - val_loss: 1.5819 - val_sparse_categorical_accuracy: 0.3540\n",
      "Epoch 4/10\n",
      "500/500 [==============================] - 6s 13ms/step - loss: 1.5851 - sparse_categorical_accuracy: 0.3318 - val_loss: 1.5389 - val_sparse_categorical_accuracy: 0.4000\n",
      "Epoch 5/10\n",
      "500/500 [==============================] - 7s 13ms/step - loss: 1.2717 - sparse_categorical_accuracy: 0.5291 - val_loss: 1.0110 - val_sparse_categorical_accuracy: 0.6513\n",
      "Epoch 6/10\n",
      "500/500 [==============================] - 6s 13ms/step - loss: 0.8036 - sparse_categorical_accuracy: 0.6874 - val_loss: 0.7185 - val_sparse_categorical_accuracy: 0.7130\n",
      "Epoch 7/10\n",
      "500/500 [==============================] - 6s 13ms/step - loss: 0.5183 - sparse_categorical_accuracy: 0.8137 - val_loss: 0.4342 - val_sparse_categorical_accuracy: 0.8600\n",
      "Epoch 8/10\n",
      "500/500 [==============================] - 7s 14ms/step - loss: 0.2767 - sparse_categorical_accuracy: 0.9041 - val_loss: 0.3277 - val_sparse_categorical_accuracy: 0.8923\n",
      "Epoch 9/10\n",
      "500/500 [==============================] - 6s 13ms/step - loss: 0.1821 - sparse_categorical_accuracy: 0.9339 - val_loss: 0.3362 - val_sparse_categorical_accuracy: 0.8933\n",
      "Epoch 10/10\n",
      "500/500 [==============================] - 6s 13ms/step - loss: 0.1356 - sparse_categorical_accuracy: 0.9494 - val_loss: 0.3423 - val_sparse_categorical_accuracy: 0.8893\n",
      "<keras.src.engine.sequential.Sequential object at 0x7b854875ef80>\n"
     ]
    }
   ],
   "source": [
    "model = Sequential()\n",
    "model.add(Embedding(16000, 150, input_length=66))\n",
    "model.add(Bidirectional(LSTM(150)))\n",
    "model.add(Dense(16000, activation='softmax'))\n",
    "adam = Adam(lr=0.001)\n",
    "model.compile(optimizer=\"adam\", loss=\"sparse_categorical_crossentropy\", metrics=[\"sparse_categorical_accuracy\"])\n",
    "history = model.fit(train_X, train_y, epochs=10, verbose=1,validation_data=(val_X,val_y))\n",
    "print(model)"
   ]
  },
  {
   "cell_type": "markdown",
   "id": "96ace1e8",
   "metadata": {
    "papermill": {
     "duration": 0.113965,
     "end_time": "2024-06-30T14:24:44.876352",
     "exception": false,
     "start_time": "2024-06-30T14:24:44.762387",
     "status": "completed"
    },
    "tags": []
   },
   "source": [
    "## Step 9 - Calculating Accuracy"
   ]
  },
  {
   "cell_type": "code",
   "execution_count": 23,
   "id": "b5fde459",
   "metadata": {
    "execution": {
     "iopub.execute_input": "2024-06-30T14:24:45.100674Z",
     "iopub.status.busy": "2024-06-30T14:24:45.100286Z",
     "iopub.status.idle": "2024-06-30T14:24:45.106145Z",
     "shell.execute_reply": "2024-06-30T14:24:45.104718Z"
    },
    "papermill": {
     "duration": 0.115723,
     "end_time": "2024-06-30T14:24:45.108186",
     "exception": false,
     "start_time": "2024-06-30T14:24:44.992463",
     "status": "completed"
    },
    "tags": []
   },
   "outputs": [
    {
     "name": "stdout",
     "output_type": "stream",
     "text": [
      "Training Accuracy: 0.949\n"
     ]
    }
   ],
   "source": [
    "# Training Accuracy\n",
    "last_accuracy = \"{:.3f}\".format(history.history['sparse_categorical_accuracy'][-1])\n",
    "print(\"Training Accuracy:\", last_accuracy)"
   ]
  },
  {
   "cell_type": "code",
   "execution_count": 24,
   "id": "86aed296",
   "metadata": {
    "execution": {
     "iopub.execute_input": "2024-06-30T14:24:45.317408Z",
     "iopub.status.busy": "2024-06-30T14:24:45.316990Z",
     "iopub.status.idle": "2024-06-30T14:24:45.636409Z",
     "shell.execute_reply": "2024-06-30T14:24:45.635292Z"
    },
    "papermill": {
     "duration": 0.427832,
     "end_time": "2024-06-30T14:24:45.638453",
     "exception": false,
     "start_time": "2024-06-30T14:24:45.210621",
     "status": "completed"
    },
    "tags": []
   },
   "outputs": [
    {
     "name": "stdout",
     "output_type": "stream",
     "text": [
      "32/32 [==============================] - 0s 8ms/step - loss: 0.3211 - sparse_categorical_accuracy: 0.8950\n",
      "Test accuracy: 89.49999809265137\n"
     ]
    }
   ],
   "source": [
    "# Test Dataset Accuracy\n",
    "testloss, test_acc = model.evaluate(test_X,test_y)\n",
    "print('Test accuracy:', test_acc*100)"
   ]
  },
  {
   "cell_type": "markdown",
   "id": "23caac89",
   "metadata": {
    "papermill": {
     "duration": 0.107476,
     "end_time": "2024-06-30T14:24:45.854281",
     "exception": false,
     "start_time": "2024-06-30T14:24:45.746805",
     "status": "completed"
    },
    "tags": []
   },
   "source": [
    "## Step 10 - Plotting Accuracy and Loss Graphs"
   ]
  },
  {
   "cell_type": "code",
   "execution_count": 25,
   "id": "038e1927",
   "metadata": {
    "execution": {
     "iopub.execute_input": "2024-06-30T14:24:46.065414Z",
     "iopub.status.busy": "2024-06-30T14:24:46.065024Z",
     "iopub.status.idle": "2024-06-30T14:24:46.274629Z",
     "shell.execute_reply": "2024-06-30T14:24:46.273737Z"
    },
    "papermill": {
     "duration": 0.318256,
     "end_time": "2024-06-30T14:24:46.276756",
     "exception": false,
     "start_time": "2024-06-30T14:24:45.958500",
     "status": "completed"
    },
    "tags": []
   },
   "outputs": [
    {
     "data": {
      "image/png": "[encoded data removed]",
      "text/plain": [
       "<Figure size 300x400 with 1 Axes>"
      ]
     },
     "metadata": {},
     "output_type": "display_data"
    }
   ],
   "source": [
    "plt.figure(figsize=(3, 4)) \n",
    "plt.plot(history.history['sparse_categorical_accuracy'])\n",
    "plt.plot(history.history['val_sparse_categorical_accuracy'])\n",
    "plt.title('Training Accuracy vs Validation Accuracy')\n",
    "plt.ylabel('Accuracy')\n",
    "plt.xlabel('Epoch')\n",
    "plt.legend(['Train', 'Validation'], loc='upper left')\n",
    "plt.show()"
   ]
  },
  {
   "cell_type": "code",
   "execution_count": 26,
   "id": "59dee6b6",
   "metadata": {
    "execution": {
     "iopub.execute_input": "2024-06-30T14:24:46.489595Z",
     "iopub.status.busy": "2024-06-30T14:24:46.489244Z",
     "iopub.status.idle": "2024-06-30T14:24:46.706438Z",
     "shell.execute_reply": "2024-06-30T14:24:46.705440Z"
    },
    "papermill": {
     "duration": 0.327052,
     "end_time": "2024-06-30T14:24:46.708951",
     "exception": false,
     "start_time": "2024-06-30T14:24:46.381899",
     "status": "completed"
    },
    "tags": []
   },
   "outputs": [
    {
     "data": {
      "image/png": "[encoded data removed]",
      "text/plain": [
       "<Figure size 300x400 with 1 Axes>"
      ]
     },
     "metadata": {},
     "output_type": "display_data"
    }
   ],
   "source": [
    "plt.figure(figsize=(3, 4)) \n",
    "plt.plot(history.history['loss'])\n",
    "plt.plot(history.history['val_loss'])\n",
    "plt.title('Training Loss vs Validation Loss')\n",
    "plt.ylabel('Loss')\n",
    "plt.xlabel('Epoch')\n",
    "plt.legend(['Train', 'Validation'], loc='upper left')\n",
    "plt.show()"
   ]
  },
  {
   "cell_type": "markdown",
   "id": "cad09838",
   "metadata": {
    "papermill": {
     "duration": 0.108093,
     "end_time": "2024-06-30T14:24:46.925539",
     "exception": false,
     "start_time": "2024-06-30T14:24:46.817446",
     "status": "completed"
    },
    "tags": []
   },
   "source": [
    "## Step 11 - Functions for Additional Testing"
   ]
  },
  {
   "cell_type": "code",
   "execution_count": 27,
   "id": "6dfa772a",
   "metadata": {
    "execution": {
     "iopub.execute_input": "2024-06-30T14:24:47.142139Z",
     "iopub.status.busy": "2024-06-30T14:24:47.141744Z",
     "iopub.status.idle": "2024-06-30T14:24:47.148267Z",
     "shell.execute_reply": "2024-06-30T14:24:47.147283Z"
    },
    "papermill": {
     "duration": 0.116428,
     "end_time": "2024-06-30T14:24:47.150234",
     "exception": false,
     "start_time": "2024-06-30T14:24:47.033806",
     "status": "completed"
    },
    "tags": []
   },
   "outputs": [],
   "source": [
    "def get_text(text):\n",
    "\n",
    "    tokenizer3 = Tokenizer()\n",
    "    tokenizer3.fit_on_texts(text)\n",
    "    word_index3 = tokenizer3.word_index\n",
    "    \n",
    "    stemmed_words = [stemmer.stem(word) for word in text.split()]\n",
    "    tokens_list= tokenizer2.texts_to_sequences([stemmed_words])[0]\n",
    "    print(tokens_list)\n",
    "\n",
    "    for i in range(len(tokens_list)):\n",
    "        for j in range(length_of_longest_sentence-len(tokens_list)):\n",
    "            tokens_list.append(0)\n",
    "    return tokens_list\n"
   ]
  },
  {
   "cell_type": "code",
   "execution_count": 28,
   "id": "1a1e0a20",
   "metadata": {
    "execution": {
     "iopub.execute_input": "2024-06-30T14:24:47.362419Z",
     "iopub.status.busy": "2024-06-30T14:24:47.362012Z",
     "iopub.status.idle": "2024-06-30T14:24:47.368267Z",
     "shell.execute_reply": "2024-06-30T14:24:47.367225Z"
    },
    "papermill": {
     "duration": 0.11673,
     "end_time": "2024-06-30T14:24:47.370285",
     "exception": false,
     "start_time": "2024-06-30T14:24:47.253555",
     "status": "completed"
    },
    "tags": []
   },
   "outputs": [],
   "source": [
    "def tester(test):\n",
    "    test = get_text(test)\n",
    "    test = np.array(test)\n",
    "    test = test.reshape(1, len(test))\n",
    "    \n",
    "    predictions = model.predict(test)\n",
    "    predicted_class = np.argmax(predictions)\n",
    "    \n",
    "    print()\n",
    "    print(\"Predicted Emotion:\",labels_dict.get(predicted_class))\n",
    "    print()"
   ]
  },
  {
   "cell_type": "code",
   "execution_count": 29,
   "id": "a57d4b69",
   "metadata": {
    "execution": {
     "iopub.execute_input": "2024-06-30T14:24:47.586869Z",
     "iopub.status.busy": "2024-06-30T14:24:47.586479Z",
     "iopub.status.idle": "2024-06-30T14:24:48.505512Z",
     "shell.execute_reply": "2024-06-30T14:24:48.504470Z"
    },
    "papermill": {
     "duration": 1.02947,
     "end_time": "2024-06-30T14:24:48.507714",
     "exception": false,
     "start_time": "2024-06-30T14:24:47.478244",
     "status": "completed"
    },
    "tags": []
   },
   "outputs": [
    {
     "name": "stdout",
     "output_type": "stream",
     "text": [
      "[3198, 74, 3203, 1494, 3247]\n",
      "1/1 [==============================] - 1s 724ms/step\n",
      "\n",
      "Predicted Emotion: love\n",
      "\n",
      "[3198, 295, 3212, 3198, 16, 1285, 1379, 580, 642, 1299, 3523]\n",
      "1/1 [==============================] - 0s 23ms/step\n",
      "\n",
      "Predicted Emotion: love\n",
      "\n",
      "[3198, 3209, 675, 3210, 3203, 1317, 3206, 694, 3201, 711]\n",
      "1/1 [==============================] - 0s 22ms/step\n",
      "\n",
      "Predicted Emotion: love\n",
      "\n"
     ]
    }
   ],
   "source": [
    "test1 = \"I adore my sister too much!\"\n",
    "test2 = \"I cry as I notice how horrible this situation has gotten\"\n",
    "test3 = \"I am upset with my friend for breaking the case\"\n",
    "\n",
    "tester(test1)\n",
    "tester(test2)\n",
    "tester(test3)"
   ]
  },
  {
   "cell_type": "code",
   "execution_count": 30,
   "id": "2f61ee29",
   "metadata": {
    "execution": {
     "iopub.execute_input": "2024-06-30T14:24:48.735028Z",
     "iopub.status.busy": "2024-06-30T14:24:48.734693Z",
     "iopub.status.idle": "2024-06-30T14:24:49.472921Z",
     "shell.execute_reply": "2024-06-30T14:24:49.471903Z"
    },
    "papermill": {
     "duration": 0.851057,
     "end_time": "2024-06-30T14:24:49.475514",
     "exception": false,
     "start_time": "2024-06-30T14:24:48.624457",
     "status": "completed"
    },
    "tags": []
   },
   "outputs": [],
   "source": [
    "new_test_data=preprocess_data(test_data)\n",
    "\n",
    "test_X = [row[0] for row in new_train_data]\n",
    "test_y = [row[1] for row in new_train_data]\n",
    "\n",
    "for i in range(len(test_X)):\n",
    "    for j in range(length_of_longest_sentence-len(test_X[i])):\n",
    "        test_X[i].append(0)\n",
    "        \n",
    "test_X = np.array(test_X) \n",
    "test_y = np.array(test_y)  \n",
    "\n",
    "test_y_one_hot = to_categorical(test_y, num_classes=16000)"
   ]
  },
  {
   "cell_type": "markdown",
   "id": "ca90da45",
   "metadata": {
    "papermill": {
     "duration": 0.110564,
     "end_time": "2024-06-30T14:24:49.693543",
     "exception": false,
     "start_time": "2024-06-30T14:24:49.582979",
     "status": "completed"
    },
    "tags": []
   },
   "source": [
    "## Step 12 - Plotting Confusion Matrix"
   ]
  },
  {
   "cell_type": "code",
   "execution_count": 31,
   "id": "b7c6a36c",
   "metadata": {
    "execution": {
     "iopub.execute_input": "2024-06-30T14:24:49.913153Z",
     "iopub.status.busy": "2024-06-30T14:24:49.912742Z",
     "iopub.status.idle": "2024-06-30T14:24:54.059987Z",
     "shell.execute_reply": "2024-06-30T14:24:54.059029Z"
    },
    "papermill": {
     "duration": 4.259893,
     "end_time": "2024-06-30T14:24:54.062191",
     "exception": false,
     "start_time": "2024-06-30T14:24:49.802298",
     "status": "completed"
    },
    "tags": []
   },
   "outputs": [
    {
     "name": "stdout",
     "output_type": "stream",
     "text": [
      "500/500 [==============================] - 2s 4ms/step\n"
     ]
    },
    {
     "data": {
      "image/png": "[encoded data removed]",
      "text/plain": [
       "<Figure size 400x400 with 1 Axes>"
      ]
     },
     "metadata": {},
     "output_type": "display_data"
    }
   ],
   "source": [
    "y_true_labels = np.argmax(test_y_one_hot,axis=1)\n",
    "y_pred = model.predict(test_X)\n",
    "y_pred_classes = np.argmax(y_pred, axis=1)\n",
    "labels=['sadness','joy','love','anger','fear','surprise']\n",
    "\n",
    "\n",
    "cm = confusion_matrix(y_true_labels, y_pred_classes)\n",
    "df_cm = pd.DataFrame(cm, labels, labels)\n",
    "plt.figure(figsize=(4,4)) \n",
    "ax = sns.heatmap(df_cm, annot=True, annot_kws={'size': 10}, square=True, cbar=False, fmt='g')\n",
    "ax.set_ylim(0, 6) \n",
    "plt.xlabel('Predicted') \n",
    "plt.ylabel('Actual') \n",
    "ax.invert_yaxis() \n",
    "plt.show()\n"
   ]
  },
  {
   "cell_type": "code",
   "execution_count": 32,
   "id": "85b87f3d",
   "metadata": {
    "execution": {
     "iopub.execute_input": "2024-06-30T14:24:54.280517Z",
     "iopub.status.busy": "2024-06-30T14:24:54.279862Z",
     "iopub.status.idle": "2024-06-30T14:24:55.226670Z",
     "shell.execute_reply": "2024-06-30T14:24:55.225837Z"
    },
    "papermill": {
     "duration": 1.057291,
     "end_time": "2024-06-30T14:24:55.229003",
     "exception": false,
     "start_time": "2024-06-30T14:24:54.171712",
     "status": "completed"
    },
    "tags": []
   },
   "outputs": [
    {
     "name": "stderr",
     "output_type": "stream",
     "text": [
      "/opt/conda/lib/python3.10/site-packages/keras/src/engine/training.py:3103: UserWarning: You are saving your model as an HDF5 file via `model.save()`. This file format is considered legacy. We recommend using instead the native Keras format, e.g. `model.save('my_model.keras')`.\n",
      "  saving_api.save_model(\n"
     ]
    }
   ],
   "source": [
    "from tensorflow.keras.models import load_model\n",
    "model.save('Emotions_Project.h5')\n",
    "new_model = load_model('Emotions_Project.h5')"
   ]
  }
 ],
 "metadata": {
  "kaggle": {
   "accelerator": "nvidiaTeslaT4",
   "dataSources": [
    {
     "datasetId": 1590810,
     "sourceId": 2617192,
     "sourceType": "datasetVersion"
    }
   ],
   "dockerImageVersionId": 30648,
   "isGpuEnabled": true,
   "isInternetEnabled": true,
   "language": "python",
   "sourceType": "notebook"
  },
  "kernelspec": {
   "display_name": "base",
   "language": "python",
   "name": "python3"
  },
  "language_info": {
   "codemirror_mode": {
    "name": "ipython",
    "version": 3
   },
   "file_extension": ".py",
   "mimetype": "text/x-python",
   "name": "python",
   "nbconvert_exporter": "python",
   "pygments_lexer": "ipython3",
   "version": "3.10.16"
  },
  "papermill": {
   "default_parameters": {},
   "duration": 152.039092,
   "end_time": "2024-06-30T14:24:59.039342",
   "environment_variables": {},
   "exception": null,
   "input_path": "__notebook__.ipynb",
   "output_path": "__notebook__.ipynb",
   "parameters": {},
   "start_time": "2024-06-30T14:22:27.000250",
   "version": "2.5.0"
  }
 },
 "nbformat": 4,
 "nbformat_minor": 5
}
